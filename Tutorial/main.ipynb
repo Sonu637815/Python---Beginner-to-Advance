{
 "cells": [
  {
   "cell_type": "code",
   "execution_count": null,
   "id": "7e786275",
   "metadata": {},
   "outputs": [
    {
     "name": "stdout",
     "output_type": "stream",
     "text": [
      "Hello Sonu\n"
     ]
    }
   ],
   "source": [
    "##user input\n",
    "\n",
    "name = input(\"What is your name?\")\n",
    "print(\"Hello \" + name)"
   ]
  },
  {
   "cell_type": "code",
   "execution_count": null,
   "id": "5c1f38c8",
   "metadata": {},
   "outputs": [
    {
     "name": "stdout",
     "output_type": "stream",
     "text": [
      "21\n"
     ]
    }
   ],
   "source": [
    "## Type conversion\n",
    "\n",
    "old_age = input(\"enter your old age : \")\n",
    "new_age = int(old_age) + 1\n",
    "print(new_age)"
   ]
  },
  {
   "cell_type": "code",
   "execution_count": 4,
   "id": "4a3e0970",
   "metadata": {},
   "outputs": [
    {
     "name": "stdout",
     "output_type": "stream",
     "text": [
      "17.0\n"
     ]
    }
   ],
   "source": [
    "number = 17\n",
    "print(float(number))"
   ]
  },
  {
   "cell_type": "code",
   "execution_count": 5,
   "id": "ce6326cf",
   "metadata": {},
   "outputs": [
    {
     "name": "stdout",
     "output_type": "stream",
     "text": [
      "10\n"
     ]
    }
   ],
   "source": [
    "#sum \n",
    "first = input(\"Enter first number : \")\n",
    "second = input(\"Enter second number : \")\n",
    "sum = int(first) + int(second)\n",
    "print(sum)"
   ]
  },
  {
   "cell_type": "code",
   "execution_count": null,
   "id": "417405f2",
   "metadata": {},
   "outputs": [],
   "source": []
  }
 ],
 "metadata": {
  "kernelspec": {
   "display_name": "Python 3",
   "language": "python",
   "name": "python3"
  },
  "language_info": {
   "codemirror_mode": {
    "name": "ipython",
    "version": 3
   },
   "file_extension": ".py",
   "mimetype": "text/x-python",
   "name": "python",
   "nbconvert_exporter": "python",
   "pygments_lexer": "ipython3",
   "version": "3.11.9"
  }
 },
 "nbformat": 4,
 "nbformat_minor": 5
}
