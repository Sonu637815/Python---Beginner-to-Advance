{
 "cells": [
  {
   "cell_type": "code",
   "execution_count": null,
   "id": "7e786275",
   "metadata": {},
   "outputs": [
    {
     "name": "stdout",
     "output_type": "stream",
     "text": [
      "Hello Sonu\n"
     ]
    }
   ],
   "source": [
    "##user input\n",
    "\n",
    "name = input(\"What is your name?\")\n",
    "print(\"Hello \" + name)"
   ]
  },
  {
   "cell_type": "code",
   "execution_count": null,
   "id": "5c1f38c8",
   "metadata": {},
   "outputs": [
    {
     "name": "stdout",
     "output_type": "stream",
     "text": [
      "21\n"
     ]
    }
   ],
   "source": [
    "## Type conversion\n",
    "\n",
    "old_age = input(\"enter your old age : \")\n",
    "new_age = int(old_age) + 1\n",
    "print(new_age)"
   ]
  },
  {
   "cell_type": "code",
   "execution_count": 4,
   "id": "4a3e0970",
   "metadata": {},
   "outputs": [
    {
     "name": "stdout",
     "output_type": "stream",
     "text": [
      "17.0\n"
     ]
    }
   ],
   "source": [
    "number = 17\n",
    "print(float(number))"
   ]
  },
  {
   "cell_type": "code",
   "execution_count": 5,
   "id": "ce6326cf",
   "metadata": {},
   "outputs": [
    {
     "name": "stdout",
     "output_type": "stream",
     "text": [
      "10\n"
     ]
    }
   ],
   "source": [
    "#sum \n",
    "first = input(\"Enter first number : \")\n",
    "second = input(\"Enter second number : \")\n",
    "sum = int(first) + int(second)\n",
    "print(sum)"
   ]
  },
  {
   "cell_type": "code",
   "execution_count": 2,
   "id": "417405f2",
   "metadata": {},
   "outputs": [
    {
     "name": "stdout",
     "output_type": "stream",
     "text": [
      "TONY STARK\n",
      "Tony Stark\n"
     ]
    }
   ],
   "source": [
    "##Strings -- UPPERCASE\n",
    "\n",
    "name = \"Tony Stark\"\n",
    "print(name.upper())\n",
    "print(name)\n",
    "\n"
   ]
  },
  {
   "cell_type": "code",
   "execution_count": 3,
   "id": "1ae0885d",
   "metadata": {},
   "outputs": [
    {
     "name": "stdout",
     "output_type": "stream",
     "text": [
      "sonu shersiya\n",
      "Sonu Shersiya\n"
     ]
    }
   ],
   "source": [
    "##lowercase\n",
    "\n",
    "name = \"Sonu Shersiya\"\n",
    "print(name.lower())\n",
    "print(name)"
   ]
  },
  {
   "cell_type": "code",
   "execution_count": null,
   "id": "5207c909",
   "metadata": {},
   "outputs": [
    {
     "name": "stdout",
     "output_type": "stream",
     "text": [
      "5\n",
      "1\n"
     ]
    }
   ],
   "source": [
    "##substring\n",
    "\n",
    "name = \"Sonu Shersiya\"\n",
    "print(name.find('Sh'))\n",
    "print(name.find('o'))\n"
   ]
  },
  {
   "cell_type": "code",
   "execution_count": 9,
   "id": "51181987",
   "metadata": {},
   "outputs": [
    {
     "name": "stdout",
     "output_type": "stream",
     "text": [
      "Tony Ironman\n",
      "Tony Stark\n"
     ]
    }
   ],
   "source": [
    "##replace \n",
    "name = \"Tony Stark\"\n",
    "\n",
    "print(name.replace(\"Stark\", \"Ironman\"))\n",
    "\n",
    "print(name)"
   ]
  },
  {
   "cell_type": "code",
   "execution_count": 13,
   "id": "81cd210f",
   "metadata": {},
   "outputs": [
    {
     "name": "stdout",
     "output_type": "stream",
     "text": [
      "True\n",
      "False\n",
      "True\n",
      "False\n"
     ]
    }
   ],
   "source": [
    "##keywords\n",
    "name = \"Tony Stark\"\n",
    "print('T' in name)\n",
    "print('v' in name)\n",
    "print('Stark' in name)\n",
    "print('Ironman' in name)"
   ]
  },
  {
   "cell_type": "code",
   "execution_count": null,
   "id": "1237362e",
   "metadata": {},
   "outputs": [
    {
     "name": "stdout",
     "output_type": "stream",
     "text": [
      "9\n",
      "1\n",
      "20\n",
      "1.25\n",
      "1\n",
      "25\n"
     ]
    }
   ],
   "source": [
    "##Airthmetic Operators\n",
    "\n",
    "print(5 + 4)                     ##Addition\n",
    "print(5 - 4)                     ##Subtraction\n",
    "print(5 * 4)                     ##Multiplication\n",
    "print(5 / 4)                     ##Division\n",
    "print(5 % 2)                     ##Remainder operator\n",
    "print(5 ** 2)                    ##Power  operator"
   ]
  },
  {
   "cell_type": "code",
   "execution_count": 24,
   "id": "230d8748",
   "metadata": {},
   "outputs": [
    {
     "name": "stdout",
     "output_type": "stream",
     "text": [
      "14\n"
     ]
    }
   ],
   "source": [
    "i = 5\n",
    "i = i + 2\n",
    "i += 2\n",
    "i -= 2\n",
    "i *= 2\n",
    "print(i)"
   ]
  },
  {
   "cell_type": "code",
   "execution_count": null,
   "id": "0874dec9",
   "metadata": {},
   "outputs": [
    {
     "name": "stdout",
     "output_type": "stream",
     "text": [
      "17\n"
     ]
    }
   ],
   "source": [
    "##operator precedance --- acc. to BODMAS rule\n",
    "\n",
    "result = 2 + 3 * 5\n",
    "print(result)"
   ]
  },
  {
   "cell_type": "code",
   "execution_count": 33,
   "id": "dd413ae5",
   "metadata": {},
   "outputs": [
    {
     "name": "stdout",
     "output_type": "stream",
     "text": [
      "True\n",
      "False\n",
      "False\n",
      "True\n",
      "True\n",
      "True\n"
     ]
    }
   ],
   "source": [
    "##comparison operator\n",
    "print(3 > 2)\n",
    "print(3 < 2)\n",
    "print(3 <= 2)\n",
    "print(3 >= 2)\n",
    "print(3 == 3)\n",
    "print(3 != 2)"
   ]
  },
  {
   "cell_type": "code",
   "execution_count": null,
   "id": "2e561c16",
   "metadata": {},
   "outputs": [
    {
     "name": "stdout",
     "output_type": "stream",
     "text": [
      "True\n",
      "True\n",
      "True\n"
     ]
    }
   ],
   "source": [
    "##logical opeerator\n",
    "print(2 > 3 or 2 > 1)              # OR \n",
    "print(6 > 3 and 2 > 1)             # AND\n",
    "print(not 2 > 3)                   # NOT\n"
   ]
  },
  {
   "cell_type": "code",
   "execution_count": 41,
   "id": "d25fbe41",
   "metadata": {},
   "outputs": [
    {
     "name": "stdout",
     "output_type": "stream",
     "text": [
      "you are in school\n",
      "thank you\n"
     ]
    }
   ],
   "source": [
    "#if else statements\n",
    "age = 15\n",
    "\n",
    "if age >= 18:\n",
    "    print(\"you are an adult\")\n",
    "    print(\"you can vote\")\n",
    "\n",
    "elif age < 18 and age > 3:\n",
    "    print(\"you are in school\")\n",
    "\n",
    "else:\n",
    "    print(\"you are a kid\")\n",
    "\n",
    "\n",
    "print(\"thank you\")"
   ]
  },
  {
   "cell_type": "code",
   "execution_count": 1,
   "id": "3f97e0ac",
   "metadata": {},
   "outputs": [
    {
     "name": "stdout",
     "output_type": "stream",
     "text": [
      "range(0, 5)\n"
     ]
    }
   ],
   "source": [
    "#range\n",
    "\n",
    "numbers = range(5)\n",
    "print(numbers)"
   ]
  },
  {
   "cell_type": "code",
   "execution_count": 2,
   "id": "9fcaf003",
   "metadata": {},
   "outputs": [
    {
     "name": "stdout",
     "output_type": "stream",
     "text": [
      "1\n",
      "2\n",
      "3\n",
      "4\n",
      "5\n"
     ]
    }
   ],
   "source": [
    "##loop\n",
    "\n",
    "#while\n",
    "\n",
    "i = 1\n",
    "while i <= 5:\n",
    "    print(i)\n",
    "    i = i + 1"
   ]
  },
  {
   "cell_type": "code",
   "execution_count": 3,
   "id": "25b1ce59",
   "metadata": {},
   "outputs": [
    {
     "name": "stdout",
     "output_type": "stream",
     "text": [
      "*\n",
      "**\n",
      "***\n",
      "****\n",
      "*****\n"
     ]
    }
   ],
   "source": [
    "i = 1 \n",
    "while i <= 5:\n",
    "    print(i * \"*\")\n",
    "    i = i + 1"
   ]
  },
  {
   "cell_type": "code",
   "execution_count": 6,
   "id": "316662bd",
   "metadata": {},
   "outputs": [
    {
     "name": "stdout",
     "output_type": "stream",
     "text": [
      "*****\n",
      "****\n",
      "***\n",
      "**\n",
      "*\n",
      "\n"
     ]
    }
   ],
   "source": [
    "i = 5 \n",
    "while i >= 0:\n",
    "    print(i * \"*\")\n",
    "    i = i - 1"
   ]
  },
  {
   "cell_type": "code",
   "execution_count": 7,
   "id": "f6cf586a",
   "metadata": {},
   "outputs": [
    {
     "name": "stdout",
     "output_type": "stream",
     "text": [
      "0\n",
      "1\n",
      "2\n",
      "3\n",
      "4\n"
     ]
    }
   ],
   "source": [
    "##for loops\n",
    "for i in range(5):\n",
    "    print(i)"
   ]
  },
  {
   "cell_type": "code",
   "execution_count": 5,
   "id": "34f2fb01",
   "metadata": {},
   "outputs": [
    {
     "name": "stdout",
     "output_type": "stream",
     "text": [
      "[96, 95, 98]\n",
      "96\n",
      "95\n",
      "[96, 95]\n",
      "[95, 98]\n"
     ]
    }
   ],
   "source": [
    "##List -- Collection of items\n",
    "marks = [96, 95, 98]\n",
    "print(marks)\n",
    "print(marks[0])\n",
    "print(marks[-2])\n",
    "print(marks[0:2])\n",
    "print(marks[1:3])\n"
   ]
  },
  {
   "cell_type": "code",
   "execution_count": 6,
   "id": "c2c60402",
   "metadata": {},
   "outputs": [
    {
     "name": "stdout",
     "output_type": "stream",
     "text": [
      "96\n",
      "95\n",
      "98\n"
     ]
    }
   ],
   "source": [
    "marks = [96, 95, 98]\n",
    "for score in marks:\n",
    "    print(score)"
   ]
  },
  {
   "cell_type": "code",
   "execution_count": 7,
   "id": "aa0b8025",
   "metadata": {},
   "outputs": [
    {
     "name": "stdout",
     "output_type": "stream",
     "text": [
      "[96, 95, 98, 99]\n"
     ]
    }
   ],
   "source": [
    "marks = [96, 95, 98]\n",
    "marks.append(99)\n",
    "print(marks)"
   ]
  },
  {
   "cell_type": "code",
   "execution_count": 8,
   "id": "8dba51bb",
   "metadata": {},
   "outputs": [
    {
     "name": "stdout",
     "output_type": "stream",
     "text": [
      "[99, 96, 95, 98]\n"
     ]
    }
   ],
   "source": [
    "marks = [96, 95, 98]\n",
    "marks.insert(0, 99)\n",
    "print(marks)"
   ]
  },
  {
   "cell_type": "code",
   "execution_count": 9,
   "id": "44bd6dcf",
   "metadata": {},
   "outputs": [
    {
     "name": "stdout",
     "output_type": "stream",
     "text": [
      "4\n"
     ]
    }
   ],
   "source": [
    "marks = [96, 95, 98]\n",
    "marks.append(99)\n",
    "print(len(marks))"
   ]
  },
  {
   "cell_type": "code",
   "execution_count": 12,
   "id": "19c2e613",
   "metadata": {},
   "outputs": [
    {
     "name": "stdout",
     "output_type": "stream",
     "text": [
      "96\n",
      "95\n",
      "98\n",
      "[]\n"
     ]
    }
   ],
   "source": [
    "marks = [96, 95, 98]\n",
    "\n",
    "i = 0\n",
    "while i < len(marks):\n",
    "    print(marks[i])\n",
    "    i = i + 1\n",
    "\n",
    "marks.clear()\n",
    "print(marks)"
   ]
  },
  {
   "cell_type": "code",
   "execution_count": 14,
   "id": "86d9186d",
   "metadata": {},
   "outputs": [
    {
     "name": "stdout",
     "output_type": "stream",
     "text": [
      "ram\n",
      "shyam\n",
      "radha\n",
      "sonu\n"
     ]
    }
   ],
   "source": [
    "##break and continue\n",
    "students = [\"ram\", \"shyam\", \"radha\", \"sonu\", \"monu\"]\n",
    "\n",
    "for student in students:\n",
    "    if student == \"monu\":\n",
    "        break;\n",
    "    print(student)"
   ]
  },
  {
   "cell_type": "code",
   "execution_count": 15,
   "id": "63c2b5ef",
   "metadata": {},
   "outputs": [
    {
     "name": "stdout",
     "output_type": "stream",
     "text": [
      "ram\n",
      "shyam\n",
      "sonu\n",
      "monu\n"
     ]
    }
   ],
   "source": [
    "students = [\"ram\", \"shyam\", \"radha\", \"sonu\", \"monu\"]\n",
    "for student in students:\n",
    "    if student == \"radha\":\n",
    "        continue;\n",
    "    print(student)"
   ]
  },
  {
   "cell_type": "code",
   "execution_count": 17,
   "id": "a3f349cc",
   "metadata": {},
   "outputs": [
    {
     "name": "stdout",
     "output_type": "stream",
     "text": [
      "2\n",
      "1\n"
     ]
    }
   ],
   "source": [
    "##tuple --- imutable\n",
    "marks =  (95, 85, 96, 96)\n",
    "\n",
    "print(marks.count(96))\n",
    "print(marks.index(85))\n"
   ]
  },
  {
   "cell_type": "code",
   "execution_count": 20,
   "id": "914ae339",
   "metadata": {},
   "outputs": [
    {
     "name": "stdout",
     "output_type": "stream",
     "text": [
      "{96, 85, 95}\n"
     ]
    }
   ],
   "source": [
    "##sets\n",
    "marks = {95, 85, 96, 96}\n",
    "\n",
    "print(marks)"
   ]
  },
  {
   "cell_type": "code",
   "execution_count": 21,
   "id": "6ebaaaf9",
   "metadata": {},
   "outputs": [
    {
     "name": "stdout",
     "output_type": "stream",
     "text": [
      "96\n",
      "85\n",
      "95\n"
     ]
    }
   ],
   "source": [
    "marks = {95, 85, 96, 96}\n",
    "\n",
    "for score in marks:\n",
    "    print(score)"
   ]
  },
  {
   "cell_type": "code",
   "execution_count": 24,
   "id": "4e68dd31",
   "metadata": {},
   "outputs": [
    {
     "name": "stdout",
     "output_type": "stream",
     "text": [
      "96\n",
      "{'english': 95, 'chemistry': 96, 'physics': 93}\n"
     ]
    }
   ],
   "source": [
    "##Dictionary\n",
    "\n",
    "marks = {\"english\" : 95, \"chemistry\" : 96}\n",
    "\n",
    "print(marks[\"chemistry\"])\n",
    "\n",
    "marks[\"physics\"] = 93;\n",
    "print(marks)"
   ]
  },
  {
   "cell_type": "code",
   "execution_count": 25,
   "id": "ca8a8c9d",
   "metadata": {},
   "outputs": [
    {
     "name": "stdout",
     "output_type": "stream",
     "text": [
      "['__doc__', '__loader__', '__name__', '__package__', '__spec__', 'acos', 'acosh', 'asin', 'asinh', 'atan', 'atan2', 'atanh', 'cbrt', 'ceil', 'comb', 'copysign', 'cos', 'cosh', 'degrees', 'dist', 'e', 'erf', 'erfc', 'exp', 'exp2', 'expm1', 'fabs', 'factorial', 'floor', 'fmod', 'frexp', 'fsum', 'gamma', 'gcd', 'hypot', 'inf', 'isclose', 'isfinite', 'isinf', 'isnan', 'isqrt', 'lcm', 'ldexp', 'lgamma', 'log', 'log10', 'log1p', 'log2', 'modf', 'nan', 'nextafter', 'perm', 'pi', 'pow', 'prod', 'radians', 'remainder', 'sin', 'sinh', 'sqrt', 'tan', 'tanh', 'tau', 'trunc', 'ulp']\n"
     ]
    }
   ],
   "source": [
    "##functions\n",
    "\n",
    "import math\n",
    "print(dir(math))"
   ]
  },
  {
   "cell_type": "code",
   "execution_count": 27,
   "id": "c72c1dff",
   "metadata": {},
   "outputs": [
    {
     "name": "stdout",
     "output_type": "stream",
     "text": [
      "4.0\n"
     ]
    }
   ],
   "source": [
    "from math import sqrt\n",
    "print(sqrt(16))"
   ]
  },
  {
   "cell_type": "code",
   "execution_count": 28,
   "id": "d4dfc4b5",
   "metadata": {},
   "outputs": [
    {
     "name": "stdout",
     "output_type": "stream",
     "text": [
      "2.0\n"
     ]
    }
   ],
   "source": [
    "from math import *\n",
    "print(sqrt(4))"
   ]
  },
  {
   "cell_type": "code",
   "execution_count": 29,
   "id": "94daf8d4",
   "metadata": {},
   "outputs": [],
   "source": [
    "##user defined functions\n",
    "\n",
    " ##\n",
    " # def function_name(parameters):"
   ]
  },
  {
   "cell_type": "code",
   "execution_count": 30,
   "id": "2d5e76bb",
   "metadata": {},
   "outputs": [
    {
     "name": "stdout",
     "output_type": "stream",
     "text": [
      "3\n"
     ]
    }
   ],
   "source": [
    "def print_sum(first, second):\n",
    "    print(first + second)\n",
    "\n",
    "print_sum(1, 2)"
   ]
  },
  {
   "cell_type": "code",
   "execution_count": null,
   "id": "1b8f58db",
   "metadata": {},
   "outputs": [],
   "source": []
  }
 ],
 "metadata": {
  "kernelspec": {
   "display_name": "Python 3",
   "language": "python",
   "name": "python3"
  },
  "language_info": {
   "codemirror_mode": {
    "name": "ipython",
    "version": 3
   },
   "file_extension": ".py",
   "mimetype": "text/x-python",
   "name": "python",
   "nbconvert_exporter": "python",
   "pygments_lexer": "ipython3",
   "version": "3.11.9"
  }
 },
 "nbformat": 4,
 "nbformat_minor": 5
}
