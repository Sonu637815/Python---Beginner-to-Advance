{
 "cells": [
  {
   "cell_type": "code",
   "execution_count": 1,
   "id": "3816efa7",
   "metadata": {},
   "outputs": [
    {
     "name": "stdout",
     "output_type": "stream",
     "text": [
      "32\n"
     ]
    }
   ],
   "source": [
    "first = input(\"enter first number :\")\n",
    "operator = input(\"enter operator (+,-,*,/,%) :\")\n",
    "second = input(\"enter second number :\")\n",
    "\n",
    "first = int(first)\n",
    "second = int(second)\n",
    "\n",
    "if operator == \"+\":\n",
    "    print(first + second)\n",
    "\n",
    "elif operator == \"-\":\n",
    "    print(first - second)\n",
    "\n",
    "elif operator == \"*\":\n",
    "    print(first * second)\n",
    "\n",
    "elif operator == \"/\":\n",
    "    print(first / second)\n",
    "\n",
    "elif operator == \"%\":\n",
    "    print(first % second)\n",
    "\n",
    "else:\n",
    "    print(\"Invalid Operation\")"
   ]
  },
  {
   "cell_type": "code",
   "execution_count": null,
   "id": "0f01ed6b",
   "metadata": {},
   "outputs": [],
   "source": []
  },
  {
   "cell_type": "code",
   "execution_count": null,
   "id": "3ade3859",
   "metadata": {},
   "outputs": [],
   "source": []
  }
 ],
 "metadata": {
  "kernelspec": {
   "display_name": "Python 3",
   "language": "python",
   "name": "python3"
  },
  "language_info": {
   "codemirror_mode": {
    "name": "ipython",
    "version": 3
   },
   "file_extension": ".py",
   "mimetype": "text/x-python",
   "name": "python",
   "nbconvert_exporter": "python",
   "pygments_lexer": "ipython3",
   "version": "3.11.9"
  }
 },
 "nbformat": 4,
 "nbformat_minor": 5
}
