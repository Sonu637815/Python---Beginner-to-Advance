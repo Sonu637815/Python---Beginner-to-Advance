{
 "cells": [
  {
   "cell_type": "code",
   "execution_count": 1,
   "id": "f8f76da2",
   "metadata": {},
   "outputs": [
    {
     "name": "stdout",
     "output_type": "stream",
     "text": [
      "Name: Sonu\n",
      "Age: 21\n",
      "Marks: 95\n"
     ]
    }
   ],
   "source": [
    "# Dictionary\n",
    "\n",
    "student = {\n",
    "    \"name\": \"Sonu\",\n",
    "    \"age\" : 21,\n",
    "    \"marks\" : 95\n",
    "}\n",
    "\n",
    "print(\"Name:\", student[\"name\"])\n",
    "print(\"Age:\", student[\"age\"])\n",
    "print(\"Marks:\", student[\"marks\"])\n"
   ]
  },
  {
   "cell_type": "code",
   "execution_count": 2,
   "id": "6d4cad2a",
   "metadata": {},
   "outputs": [
    {
     "name": "stdout",
     "output_type": "stream",
     "text": [
      "All Colors: ('Red', 'Green', 'Blue')\n",
      "First Color: Red\n"
     ]
    }
   ],
   "source": [
    "# Tuple \n",
    "\n",
    "colors = (\"Red\", \"Green\", \"Blue\")\n",
    "print(\"All Colors:\", colors)\n",
    "print(\"First Color:\", colors[0])"
   ]
  },
  {
   "cell_type": "code",
   "execution_count": 6,
   "id": "e816a5f4",
   "metadata": {},
   "outputs": [
    {
     "name": "stdout",
     "output_type": "stream",
     "text": [
      "Name: Sonu\n",
      "Age: 21\n",
      "Hobby: Coding\n",
      "Updated Student_info: {'name': 'Sonu', 'age': 21, 'hobby': 'Coding', 'city': 'Jaipur'}\n"
     ]
    }
   ],
   "source": [
    "# Task 1 : Student info dictionary\n",
    "\n",
    "student_info = {\n",
    "    \"name\": \"Sonu\",\n",
    "    \"age\": 21,\n",
    "    \"hobby\": \"Coding\"\n",
    "}\n",
    "print(\"Name:\", student_info[\"name\"])\n",
    "print(\"Age:\", student_info[\"age\"])\n",
    "print(\"Hobby:\", student_info[\"hobby\"])\n",
    "\n",
    "student_info[\"city\"] = \"Jaipur\"\n",
    "print(\"Updated Student_info:\", student_info)\n"
   ]
  },
  {
   "cell_type": "code",
   "execution_count": 4,
   "id": "d41be883",
   "metadata": {},
   "outputs": [
    {
     "name": "stdout",
     "output_type": "stream",
     "text": [
      "First Fruit: Apple\n",
      "Last Fruit: Grapes\n",
      "All Fruits: ('Apple', 'Banana', 'Mango', 'Grapes')\n"
     ]
    }
   ],
   "source": [
    "# Task 2 : Fruits Tuple\n",
    "\n",
    "fruits = (\"Apple\", \"Banana\", \"Mango\", \"Grapes\")\n",
    "\n",
    "print(\"First Fruit:\", fruits[0])\n",
    "print(\"Last Fruit:\", fruits[-1])\n",
    "print(\"All Fruits:\", fruits)\n"
   ]
  },
  {
   "cell_type": "code",
   "execution_count": 7,
   "id": "487a161e",
   "metadata": {},
   "outputs": [
    {
     "name": "stdout",
     "output_type": "stream",
     "text": [
      "Second Subject: Science\n"
     ]
    }
   ],
   "source": [
    "# Task 3 : dictionary + list combo\n",
    "\n",
    "student_subjects = {\n",
    "    \"subjects\": [\"math\", \"Science\", \"English\"]\n",
    "\n",
    "}\n",
    "\n",
    "print(\"Second Subject:\", student_subjects[\"subjects\"][1])"
   ]
  },
  {
   "cell_type": "code",
   "execution_count": null,
   "id": "64a0924e",
   "metadata": {},
   "outputs": [],
   "source": []
  }
 ],
 "metadata": {
  "kernelspec": {
   "display_name": "Python 3",
   "language": "python",
   "name": "python3"
  },
  "language_info": {
   "codemirror_mode": {
    "name": "ipython",
    "version": 3
   },
   "file_extension": ".py",
   "mimetype": "text/x-python",
   "name": "python",
   "nbconvert_exporter": "python",
   "pygments_lexer": "ipython3",
   "version": "3.11.9"
  }
 },
 "nbformat": 4,
 "nbformat_minor": 5
}
