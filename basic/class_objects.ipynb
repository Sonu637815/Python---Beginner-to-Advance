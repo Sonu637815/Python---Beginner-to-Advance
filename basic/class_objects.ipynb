{
 "cells": [
  {
   "cell_type": "code",
   "execution_count": 1,
   "id": "47e0e5b3",
   "metadata": {},
   "outputs": [
    {
     "name": "stdout",
     "output_type": "stream",
     "text": [
      "Name: Sonu\n",
      "Age: 21\n",
      "Hobby: Coding\n",
      "Name: Monu\n",
      "Age: 22\n",
      "Hobby: Reading\n"
     ]
    }
   ],
   "source": [
    "# Class -- It is a blueprint for creating objects\n",
    "class Student:\n",
    "    def __init__(self, name, age, hobby):\n",
    "        self.name = name\n",
    "        self.age = age\n",
    "        self.hobby = hobby\n",
    "\n",
    "    def display_info(self):\n",
    "        print(\"Name:\", self.name)\n",
    "        print(\"Age:\", self.age)\n",
    "        print(\"Hobby:\", self.hobby)\n",
    "\n",
    "# Creating objects\n",
    "student1 = Student(\"Sonu\", 21, \"Coding\")\n",
    "student2 = Student(\"Monu\", 22, \"Reading\")\n",
    "\n",
    "# Accessing object attributes\n",
    "student1.display_info()\n",
    "student2.display_info()"
   ]
  },
  {
   "cell_type": "code",
   "execution_count": null,
   "id": "1595669f",
   "metadata": {},
   "outputs": [],
   "source": []
  }
 ],
 "metadata": {
  "kernelspec": {
   "display_name": "Python 3",
   "language": "python",
   "name": "python3"
  },
  "language_info": {
   "codemirror_mode": {
    "name": "ipython",
    "version": 3
   },
   "file_extension": ".py",
   "mimetype": "text/x-python",
   "name": "python",
   "nbconvert_exporter": "python",
   "pygments_lexer": "ipython3",
   "version": "3.11.9"
  }
 },
 "nbformat": 4,
 "nbformat_minor": 5
}
