{
 "cells": [
  {
   "cell_type": "code",
   "execution_count": 1,
   "id": "46af6e98",
   "metadata": {},
   "outputs": [
    {
     "name": "stdout",
     "output_type": "stream",
     "text": [
      "Apple\n"
     ]
    }
   ],
   "source": [
    "#Declaring and assigning value to a variable\n",
    "a = \"Apple\"\n",
    "print(a)"
   ]
  },
  {
   "cell_type": "code",
   "execution_count": 3,
   "id": "24da84c9",
   "metadata": {},
   "outputs": [
    {
     "name": "stdout",
     "output_type": "stream",
     "text": [
      "Banana\n",
      "100\n"
     ]
    }
   ],
   "source": [
    "#Changing the value of a variable\n",
    "a = \"Banana\"\n",
    "print(a)\n",
    "\n",
    "a = 100\n",
    "print(a)"
   ]
  },
  {
   "cell_type": "code",
   "execution_count": 4,
   "id": "378901d4",
   "metadata": {},
   "outputs": [
    {
     "name": "stdout",
     "output_type": "stream",
     "text": [
      "Orange 5 1.5\n"
     ]
    }
   ],
   "source": [
    "#Assigning multiple values to a variables\n",
    "b, c, d = \"Orange\", \"5\", \"1.5\"\n",
    "print(b, c, d)"
   ]
  },
  {
   "cell_type": "code",
   "execution_count": 5,
   "id": "fe0f867a",
   "metadata": {},
   "outputs": [
    {
     "name": "stdout",
     "output_type": "stream",
     "text": [
      "Grapes Grapes Grapes\n"
     ]
    }
   ],
   "source": [
    "#Assigning same value to multiple variables\n",
    "e = f = g = \"Grapes\"\n",
    "print(e, f, g)"
   ]
  },
  {
   "cell_type": "code",
   "execution_count": null,
   "id": "e171ac64",
   "metadata": {},
   "outputs": [
    {
     "name": "stdout",
     "output_type": "stream",
     "text": [
      "3.14\n"
     ]
    }
   ],
   "source": [
    "#Declaring and assigning values to constants\n",
    "PI = 3.14\n",
    "print(PI)"
   ]
  },
  {
   "cell_type": "code",
   "execution_count": null,
   "id": "237bd006",
   "metadata": {},
   "outputs": [],
   "source": []
  }
 ],
 "metadata": {
  "kernelspec": {
   "display_name": "Python 3",
   "language": "python",
   "name": "python3"
  },
  "language_info": {
   "codemirror_mode": {
    "name": "ipython",
    "version": 3
   },
   "file_extension": ".py",
   "mimetype": "text/x-python",
   "name": "python",
   "nbconvert_exporter": "python",
   "pygments_lexer": "ipython3",
   "version": "3.11.9"
  }
 },
 "nbformat": 4,
 "nbformat_minor": 5
}
