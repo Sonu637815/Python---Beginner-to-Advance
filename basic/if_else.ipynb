{
 "cells": [
  {
   "cell_type": "code",
   "execution_count": 1,
   "id": "2d74cf82",
   "metadata": {},
   "outputs": [
    {
     "name": "stdout",
     "output_type": "stream",
     "text": [
      "Grade: A 🎉\n"
     ]
    }
   ],
   "source": [
    "# Grading System\n",
    "marks = int(input(\"Enter your marks: \"))\n",
    "\n",
    "if marks >= 90:\n",
    "    print(\"Grade: A+ 🏆\")\n",
    "elif marks >= 75:\n",
    "    print(\"Grade: A 🎉\")\n",
    "elif marks >= 50:\n",
    "    print(\"Grade: B 🙂\")\n",
    "else:\n",
    "    print(\"Grade: Fail 💀\")\n"
   ]
  },
  {
   "cell_type": "code",
   "execution_count": 4,
   "id": "d860bacd",
   "metadata": {},
   "outputs": [
    {
     "name": "stdout",
     "output_type": "stream",
     "text": [
      "45 x 1 = 45\n",
      "45 x 2 = 90\n",
      "45 x 3 = 135\n",
      "45 x 4 = 180\n",
      "45 x 5 = 225\n",
      "45 x 6 = 270\n",
      "45 x 7 = 315\n",
      "45 x 8 = 360\n",
      "45 x 9 = 405\n",
      "45 x 10 = 450\n"
     ]
    }
   ],
   "source": [
    "# Multiplication Table Generator\n",
    "num = int(input(\"Enter a number: \"))\n",
    "for i in range(1, 11):\n",
    "    print(f\"{num} x {i} = {num * i}\")"
   ]
  },
  {
   "cell_type": "code",
   "execution_count": 5,
   "id": "1937fb35",
   "metadata": {},
   "outputs": [
    {
     "name": "stdout",
     "output_type": "stream",
     "text": [
      "⌛ Countdown: 8\n",
      "⌛ Countdown: 7\n",
      "⌛ Countdown: 6\n",
      "⌛ Countdown: 5\n",
      "⌛ Countdown: 4\n",
      "⌛ Countdown: 3\n",
      "⌛ Countdown: 2\n",
      "⌛ Countdown: 1\n",
      "Boom! 🎉\n"
     ]
    }
   ],
   "source": [
    "# Countdown Timer\n",
    "n = int(input(\"Enter a number: \"))\n",
    "\n",
    "while n > 0:\n",
    "    print(\"⌛ Countdown:\", n)\n",
    "    n -= 1\n",
    "print(\"Boom! 🎉\")"
   ]
  },
  {
   "cell_type": "code",
   "execution_count": null,
   "id": "4f23acce",
   "metadata": {},
   "outputs": [],
   "source": []
  }
 ],
 "metadata": {
  "kernelspec": {
   "display_name": "Python 3",
   "language": "python",
   "name": "python3"
  },
  "language_info": {
   "codemirror_mode": {
    "name": "ipython",
    "version": 3
   },
   "file_extension": ".py",
   "mimetype": "text/x-python",
   "name": "python",
   "nbconvert_exporter": "python",
   "pygments_lexer": "ipython3",
   "version": "3.11.9"
  }
 },
 "nbformat": 4,
 "nbformat_minor": 5
}
