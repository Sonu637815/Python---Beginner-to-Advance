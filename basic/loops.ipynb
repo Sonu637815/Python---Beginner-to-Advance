{
 "cells": [
  {
   "cell_type": "code",
   "execution_count": 1,
   "id": "c5ad92ea",
   "metadata": {},
   "outputs": [
    {
     "name": "stdout",
     "output_type": "stream",
     "text": [
      "Number: 0\n",
      "Number: 1\n",
      "Number: 2\n",
      "Number: 3\n",
      "Number: 4\n",
      "Number: 5\n",
      "Number: 6\n",
      "Number: 7\n",
      "Number: 8\n",
      "Number: 9\n"
     ]
    }
   ],
   "source": [
    "#loop\n",
    "\n",
    "for i in range(10):\n",
    "    print(\"Number:\", i)"
   ]
  },
  {
   "cell_type": "code",
   "execution_count": 2,
   "id": "c80a3550",
   "metadata": {},
   "outputs": [
    {
     "name": "stdout",
     "output_type": "stream",
     "text": [
      "Counting: 1\n",
      "Counting: 2\n",
      "Counting: 3\n",
      "Counting: 4\n",
      "Counting: 5\n"
     ]
    }
   ],
   "source": [
    "count = 1\n",
    "while count <= 5:\n",
    "    print(\"Counting:\", count)\n",
    "    count += 1"
   ]
  },
  {
   "cell_type": "code",
   "execution_count": 5,
   "id": "7808841d",
   "metadata": {},
   "outputs": [
    {
     "name": "stdout",
     "output_type": "stream",
     "text": [
      "Sum: 15\n"
     ]
    }
   ],
   "source": [
    "# Task 1 : Sum of numbers\n",
    "num = int(input(\"Enter a number:\"))\n",
    "total = 0\n",
    "\n",
    "for i in range(1, num + 1):\n",
    "    total += i\n",
    "\n",
    "print(\"Sum:\", total)"
   ]
  },
  {
   "cell_type": "code",
   "execution_count": 6,
   "id": "c17f19a1",
   "metadata": {},
   "outputs": [
    {
     "name": "stdout",
     "output_type": "stream",
     "text": [
      "15 x 1 = 15\n",
      "15 x 2 = 30\n",
      "15 x 3 = 45\n",
      "15 x 4 = 60\n",
      "15 x 5 = 75\n",
      "15 x 6 = 90\n",
      "15 x 7 = 105\n",
      "15 x 8 = 120\n",
      "15 x 9 = 135\n",
      "15 x 10 = 150\n"
     ]
    }
   ],
   "source": [
    "# Task 2 : Multiplication Table \n",
    "\n",
    "n = int(input(\"Enter a number:\"))\n",
    "\n",
    "for i in range(1, 11):\n",
    "    print(n, \"x\", i, \"=\", n * i)"
   ]
  },
  {
   "cell_type": "code",
   "execution_count": 8,
   "id": "6b5364ef",
   "metadata": {},
   "outputs": [
    {
     "name": "stdout",
     "output_type": "stream",
     "text": [
      "\n",
      "===== Library Menu =====\n",
      "1. Show Books\n",
      "2. Add Book\n",
      "3. Search Book\n",
      "4. Remove Book\n",
      "5. Exit\n",
      "\n",
      "Books in Library: ['Python', 'Data Science', 'AI']\n",
      "\n",
      "===== Library Menu =====\n",
      "1. Show Books\n",
      "2. Add Book\n",
      "3. Search Book\n",
      "4. Remove Book\n",
      "5. Exit\n",
      "'ML' added successfully!\n",
      "\n",
      "===== Library Menu =====\n",
      "1. Show Books\n",
      "2. Add Book\n",
      "3. Search Book\n",
      "4. Remove Book\n",
      "5. Exit\n",
      "\n",
      "Books in Library: ['Python', 'Data Science', 'AI', 'ML']\n",
      "\n",
      "===== Library Menu =====\n",
      "1. Show Books\n",
      "2. Add Book\n",
      "3. Search Book\n",
      "4. Remove Book\n",
      "5. Exit\n",
      "\n",
      "Books in Library: ['Python', 'Data Science', 'AI', 'ML']\n",
      "\n",
      "===== Library Menu =====\n",
      "1. Show Books\n",
      "2. Add Book\n",
      "3. Search Book\n",
      "4. Remove Book\n",
      "5. Exit\n",
      "'ML' is available in library ✅\n",
      "\n",
      "===== Library Menu =====\n",
      "1. Show Books\n",
      "2. Add Book\n",
      "3. Search Book\n",
      "4. Remove Book\n",
      "5. Exit\n",
      "'java' not found, can't remove ❌\n",
      "\n",
      "===== Library Menu =====\n",
      "1. Show Books\n",
      "2. Add Book\n",
      "3. Search Book\n",
      "4. Remove Book\n",
      "5. Exit\n",
      "Exiting Library System... Goodbye!\n"
     ]
    }
   ],
   "source": [
    "# Task 3 : Simple Library System\n",
    "\n",
    "\n",
    "library = [\"Python\", \"Data Science\", \"AI\"]\n",
    "\n",
    "while True:\n",
    "    print(\"\\n===== Library Menu =====\")\n",
    "    print(\"1. Show Books\")\n",
    "    print(\"2. Add Book\")\n",
    "    print(\"3. Search Book\")\n",
    "    print(\"4. Remove Book\")\n",
    "    print(\"5. Exit\")\n",
    "\n",
    "    choice = int(input(\"Enter choice: \"))\n",
    "\n",
    "    if choice == 1:\n",
    "        print(\"\\nBooks in Library:\", library)\n",
    "\n",
    "    elif choice == 2:\n",
    "        book = input(\"Enter book name: \")\n",
    "        library.append(book)\n",
    "        print(f\"'{book}' added successfully!\")\n",
    "\n",
    "    elif choice == 3:\n",
    "        book = input(\"Enter book name to search: \")\n",
    "        if book in library:\n",
    "            print(f\"'{book}' is available in library ✅\")\n",
    "        else:\n",
    "            print(f\"'{book}' not found ❌\")\n",
    "\n",
    "    elif choice == 4:\n",
    "        book = input(\"Enter book name to remove: \")\n",
    "        if book in library:\n",
    "            library.remove(book)\n",
    "            print(f\"'{book}' removed successfully!\")\n",
    "        else:\n",
    "            print(f\"'{book}' not found, can't remove ❌\")\n",
    "\n",
    "    elif choice == 5:\n",
    "        print(\"Exiting Library System... Goodbye!\")\n",
    "        break\n",
    "\n",
    "    else:\n",
    "        print(\"Invalid choice, try again.\")\n"
   ]
  },
  {
   "cell_type": "code",
   "execution_count": null,
   "id": "89251ae2",
   "metadata": {},
   "outputs": [],
   "source": []
  }
 ],
 "metadata": {
  "kernelspec": {
   "display_name": "Python 3",
   "language": "python",
   "name": "python3"
  },
  "language_info": {
   "codemirror_mode": {
    "name": "ipython",
    "version": 3
   },
   "file_extension": ".py",
   "mimetype": "text/x-python",
   "name": "python",
   "nbconvert_exporter": "python",
   "pygments_lexer": "ipython3",
   "version": "3.11.9"
  }
 },
 "nbformat": 4,
 "nbformat_minor": 5
}
