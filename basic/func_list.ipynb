{
 "cells": [
  {
   "cell_type": "code",
   "execution_count": 1,
   "id": "6f8eb50d",
   "metadata": {},
   "outputs": [
    {
     "name": "stdout",
     "output_type": "stream",
     "text": [
      "Hello Sonu Good Morning!\n",
      "Hello Monu Good Morning!\n"
     ]
    }
   ],
   "source": [
    "#Function\n",
    "def greet(name):\n",
    "    print(\"Hello\", name, \"Good Morning!\")\n",
    "\n",
    "greet(\"Sonu\")\n",
    "greet(\"Monu\")"
   ]
  },
  {
   "cell_type": "code",
   "execution_count": 1,
   "id": "277f2f9f",
   "metadata": {},
   "outputs": [
    {
     "name": "stdout",
     "output_type": "stream",
     "text": [
      "All Fruits: ['Apple', 'Banana', 'Mango', 'Orange']\n",
      "First Fruit: Apple\n",
      "Last Fruit: Orange\n"
     ]
    }
   ],
   "source": [
    "# lists \n",
    "fruits = [\"Apple\", \"Banana\", \"Mango\", \"Orange\"]\n",
    "print(\"All Fruits:\", fruits)\n",
    "print(\"First Fruit:\", fruits[0])\n",
    "print(\"Last Fruit:\", fruits[-1])"
   ]
  },
  {
   "cell_type": "code",
   "execution_count": 2,
   "id": "ec0e6696",
   "metadata": {},
   "outputs": [
    {
     "name": "stdout",
     "output_type": "stream",
     "text": [
      "15\n"
     ]
    }
   ],
   "source": [
    "# sum function\n",
    "def add(a, b):\n",
    "    return a + b\n",
    "\n",
    "print(add(5, 10))\n"
   ]
  },
  {
   "cell_type": "code",
   "execution_count": 4,
   "id": "e12932a9",
   "metadata": {},
   "outputs": [
    {
     "name": "stdout",
     "output_type": "stream",
     "text": [
      "Full Shopping List: ['Bread', 'Butter', 'Jam', 'Egg', 'Milk']\n",
      "First Item: Bread\n",
      "Last Item: Milk\n",
      "Updated Shopping List: ['Bread', 'Butter', 'Jam', 'Egg', 'Milk', 'Cheese']\n"
     ]
    }
   ],
   "source": [
    "# shopping list\n",
    "list = [\"Bread\", \"Butter\", \"Jam\", \"Egg\", \"Milk\"]\n",
    "print(\"Full Shopping List:\", list)\n",
    "print(\"First Item:\", list[0])\n",
    "print(\"Last Item:\", list[-1])\n",
    "\n",
    "list.append(\"Cheese\")\n",
    "print(\"Updated Shopping List:\", list)\n",
    "\n"
   ]
  },
  {
   "cell_type": "code",
   "execution_count": 5,
   "id": "3e83e7ac",
   "metadata": {},
   "outputs": [
    {
     "name": "stdout",
     "output_type": "stream",
     "text": [
      "Average Marks: 86.6\n"
     ]
    }
   ],
   "source": [
    "# function and lists\n",
    "\n",
    "def average(numbers):\n",
    "    return sum(numbers) / len(numbers)\n",
    "\n",
    "marks = [85, 90, 78, 92, 88]\n",
    "print(\"Average Marks:\", average(marks))\n"
   ]
  },
  {
   "cell_type": "code",
   "execution_count": null,
   "id": "6072d159",
   "metadata": {},
   "outputs": [],
   "source": []
  }
 ],
 "metadata": {
  "kernelspec": {
   "display_name": "Python 3",
   "language": "python",
   "name": "python3"
  },
  "language_info": {
   "codemirror_mode": {
    "name": "ipython",
    "version": 3
   },
   "file_extension": ".py",
   "mimetype": "text/x-python",
   "name": "python",
   "nbconvert_exporter": "python",
   "pygments_lexer": "ipython3",
   "version": "3.11.9"
  }
 },
 "nbformat": 4,
 "nbformat_minor": 5
}
